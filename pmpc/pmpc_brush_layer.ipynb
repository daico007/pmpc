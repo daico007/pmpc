{
 "cells": [
  {
   "cell_type": "code",
   "execution_count": 5,
   "metadata": {},
   "outputs": [
    {
     "ename": "AttributeError",
     "evalue": "'NoneType' object has no attribute 'add_bond'",
     "output_type": "error",
     "traceback": [
      "\u001b[0;31m---------------------------------------------------------------------------\u001b[0m",
      "\u001b[0;31mAttributeError\u001b[0m                            Traceback (most recent call last)",
      "Input \u001b[0;32mIn [5]\u001b[0m, in \u001b[0;36m<module>\u001b[0;34m\u001b[0m\n\u001b[1;32m     15\u001b[0m         hydrogen \u001b[39m=\u001b[39m H()\n\u001b[1;32m     16\u001b[0m         \u001b[39msuper\u001b[39m(PMPCLayer, \u001b[39mself\u001b[39m)\u001b[39m.\u001b[39m\u001b[39m__init__\u001b[39m(surface, brush, backfill\u001b[39m=\u001b[39mhydrogen,\n\u001b[1;32m     17\u001b[0m                                         pattern\u001b[39m=\u001b[39mpattern, tile_x\u001b[39m=\u001b[39mtile_x,\n\u001b[1;32m     18\u001b[0m                                         tile_y\u001b[39m=\u001b[39mtile_y)\n\u001b[0;32m---> 20\u001b[0m Brush(chain_length\u001b[39m=\u001b[39;49m\u001b[39m3\u001b[39;49m)\u001b[39m.\u001b[39mvisualize()\n",
      "File \u001b[0;32m~/pmpc/pmpc/brush.py:22\u001b[0m, in \u001b[0;36mBrush.__init__\u001b[0;34m(self, chain_length, alpha)\u001b[0m\n\u001b[1;32m     <a href='file:///~/pmpc/pmpc/brush.py?line=19'>20</a>\u001b[0m chain\u001b[39m.\u001b[39madd_monomer(MPC(alpha\u001b[39m=\u001b[39malpha),indices\u001b[39m=\u001b[39m[\u001b[39m1\u001b[39m, \u001b[39m37\u001b[39m], separation \u001b[39m=\u001b[39m \u001b[39m.15\u001b[39m, replace\u001b[39m=\u001b[39m\u001b[39mTrue\u001b[39;00m)\n\u001b[1;32m     <a href='file:///~/pmpc/pmpc/brush.py?line=20'>21</a>\u001b[0m \u001b[39m# chain.add_end_groups(CH3(), index=30, separation=.15)\u001b[39;00m\n\u001b[0;32m---> <a href='file:///~/pmpc/pmpc/brush.py?line=21'>22</a>\u001b[0m chain\u001b[39m.\u001b[39;49mbuild(n \u001b[39m=\u001b[39;49m chain_length)\n\u001b[1;32m     <a href='file:///~/pmpc/pmpc/brush.py?line=22'>23</a>\u001b[0m \u001b[39mself\u001b[39m\u001b[39m.\u001b[39madd(chain, label\u001b[39m=\u001b[39m\u001b[39m'\u001b[39m\u001b[39mpmpc\u001b[39m\u001b[39m'\u001b[39m)\n\u001b[1;32m     <a href='file:///~/pmpc/pmpc/brush.py?line=23'>24</a>\u001b[0m \u001b[39mself\u001b[39m\u001b[39m.\u001b[39madd(CH3(), label\u001b[39m=\u001b[39m\u001b[39m'\u001b[39m\u001b[39mmethyl\u001b[39m\u001b[39m'\u001b[39m)\n",
      "File \u001b[0;32m~/opt/miniconda3/lib/python3.9/site-packages/mbuild/lib/recipes/polymer.py:161\u001b[0m, in \u001b[0;36mPolymer.build\u001b[0;34m(self, n, sequence, add_hydrogens)\u001b[0m\n\u001b[1;32m    <a href='file:///~/opt/miniconda3/lib/python3.9/site-packages/mbuild/lib/recipes/polymer.py?line=156'>157</a>\u001b[0m     first_part \u001b[39m=\u001b[39m this_part\n\u001b[1;32m    <a href='file:///~/opt/miniconda3/lib/python3.9/site-packages/mbuild/lib/recipes/polymer.py?line=157'>158</a>\u001b[0m \u001b[39melse\u001b[39;00m:\n\u001b[1;32m    <a href='file:///~/opt/miniconda3/lib/python3.9/site-packages/mbuild/lib/recipes/polymer.py?line=158'>159</a>\u001b[0m     \u001b[39m# Transform this part, such that its bottom port is rotated\u001b[39;00m\n\u001b[1;32m    <a href='file:///~/opt/miniconda3/lib/python3.9/site-packages/mbuild/lib/recipes/polymer.py?line=159'>160</a>\u001b[0m     \u001b[39m# and translated to the last parts top port.\u001b[39;00m\n\u001b[0;32m--> <a href='file:///~/opt/miniconda3/lib/python3.9/site-packages/mbuild/lib/recipes/polymer.py?line=160'>161</a>\u001b[0m     force_overlap(\n\u001b[1;32m    <a href='file:///~/opt/miniconda3/lib/python3.9/site-packages/mbuild/lib/recipes/polymer.py?line=161'>162</a>\u001b[0m         this_part,\n\u001b[1;32m    <a href='file:///~/opt/miniconda3/lib/python3.9/site-packages/mbuild/lib/recipes/polymer.py?line=162'>163</a>\u001b[0m         this_part\u001b[39m.\u001b[39;49mlabels[\u001b[39mself\u001b[39;49m\u001b[39m.\u001b[39;49m_port_labels[\u001b[39m0\u001b[39;49m]],\n\u001b[1;32m    <a href='file:///~/opt/miniconda3/lib/python3.9/site-packages/mbuild/lib/recipes/polymer.py?line=163'>164</a>\u001b[0m         last_part\u001b[39m.\u001b[39;49mlabels[\u001b[39mself\u001b[39;49m\u001b[39m.\u001b[39;49m_port_labels[\u001b[39m1\u001b[39;49m]],\n\u001b[1;32m    <a href='file:///~/opt/miniconda3/lib/python3.9/site-packages/mbuild/lib/recipes/polymer.py?line=164'>165</a>\u001b[0m     )\n\u001b[1;32m    <a href='file:///~/opt/miniconda3/lib/python3.9/site-packages/mbuild/lib/recipes/polymer.py?line=165'>166</a>\u001b[0m last_part \u001b[39m=\u001b[39m this_part\n\u001b[1;32m    <a href='file:///~/opt/miniconda3/lib/python3.9/site-packages/mbuild/lib/recipes/polymer.py?line=166'>167</a>\u001b[0m \u001b[39mif\u001b[39;00m n_added \u001b[39m==\u001b[39m n \u001b[39m*\u001b[39m \u001b[39mlen\u001b[39m(sequence) \u001b[39m-\u001b[39m \u001b[39m1\u001b[39m:\n",
      "File \u001b[0;32m~/opt/miniconda3/lib/python3.9/site-packages/mbuild/coordinate_transform.py:79\u001b[0m, in \u001b[0;36mforce_overlap\u001b[0;34m(move_this, from_positions, to_positions, add_bond)\u001b[0m\n\u001b[1;32m     <a href='file:///~/opt/miniconda3/lib/python3.9/site-packages/mbuild/coordinate_transform.py?line=74'>75</a>\u001b[0m \u001b[39melse\u001b[39;00m:\n\u001b[1;32m     <a href='file:///~/opt/miniconda3/lib/python3.9/site-packages/mbuild/coordinate_transform.py?line=75'>76</a>\u001b[0m     from_positions\u001b[39m.\u001b[39manchor\u001b[39m.\u001b[39mparent\u001b[39m.\u001b[39madd_bond(\n\u001b[1;32m     <a href='file:///~/opt/miniconda3/lib/python3.9/site-packages/mbuild/coordinate_transform.py?line=76'>77</a>\u001b[0m         (from_positions\u001b[39m.\u001b[39manchor, to_positions\u001b[39m.\u001b[39manchor)\n\u001b[1;32m     <a href='file:///~/opt/miniconda3/lib/python3.9/site-packages/mbuild/coordinate_transform.py?line=77'>78</a>\u001b[0m     )\n\u001b[0;32m---> <a href='file:///~/opt/miniconda3/lib/python3.9/site-packages/mbuild/coordinate_transform.py?line=78'>79</a>\u001b[0m     to_positions\u001b[39m.\u001b[39;49manchor\u001b[39m.\u001b[39;49mparent\u001b[39m.\u001b[39;49madd_bond(\n\u001b[1;32m     <a href='file:///~/opt/miniconda3/lib/python3.9/site-packages/mbuild/coordinate_transform.py?line=79'>80</a>\u001b[0m         (from_positions\u001b[39m.\u001b[39manchor, to_positions\u001b[39m.\u001b[39manchor)\n\u001b[1;32m     <a href='file:///~/opt/miniconda3/lib/python3.9/site-packages/mbuild/coordinate_transform.py?line=80'>81</a>\u001b[0m     )\n\u001b[1;32m     <a href='file:///~/opt/miniconda3/lib/python3.9/site-packages/mbuild/coordinate_transform.py?line=81'>82</a>\u001b[0m     from_positions\u001b[39m.\u001b[39manchor\u001b[39m.\u001b[39mparent\u001b[39m.\u001b[39mremove(from_positions)\n\u001b[1;32m     <a href='file:///~/opt/miniconda3/lib/python3.9/site-packages/mbuild/coordinate_transform.py?line=82'>83</a>\u001b[0m     to_positions\u001b[39m.\u001b[39manchor\u001b[39m.\u001b[39mparent\u001b[39m.\u001b[39mremove(to_positions)\n",
      "\u001b[0;31mAttributeError\u001b[0m: 'NoneType' object has no attribute 'add_bond'"
     ]
    }
   ],
   "source": [
    "from numpy import pi\n",
    "\n",
    "import mbuild as mb\n",
    "\n",
    "from mbuild.lib.atoms import H\n",
    "from mbuild.lib.surfaces import Betacristobalite\n",
    "from brush import Brush\n",
    "\n",
    "\n",
    "class PMPCLayer(mb.lib.recipes.Monolayer):\n",
    "    \"\"\"Create a layer of grafted pMPC brushes on a beta-cristobalite surface.\"\"\"\n",
    "    def __init__(self, pattern, tile_x=1, tile_y=1, chain_length=4, alpha=pi / 4):\n",
    "        surface = Betacristobalite()\n",
    "        brush = Brush(chain_length=chain_length, alpha=alpha)\n",
    "        hydrogen = H()\n",
    "        super(PMPCLayer, self).__init__(surface, brush, backfill=hydrogen,\n",
    "                                        pattern=pattern, tile_x=tile_x,\n",
    "                                        tile_y=tile_y)\n",
    "\n",
    "Brush(chain_length=3).visualize()"
   ]
  },
  {
   "cell_type": "code",
   "execution_count": 3,
   "metadata": {},
   "outputs": [
    {
     "name": "stderr",
     "output_type": "stream",
     "text": [
      "/Users/kieran/opt/miniconda3/lib/python3.9/site-packages/mdtraj/core/trajectory.py:438: UserWarning: top= kwargs ignored since this file parser does not support it\n",
      "  warnings.warn('top= kwargs ignored since this file parser does not support it')\n",
      "/Users/kieran/opt/miniconda3/lib/python3.9/site-packages/mbuild/compound.py:1106: UserWarning: Compound.box.lengths < Compound.boundingbox.lengths. There may be particles outside of the defined simulation box.\n",
      "  warn(\n",
      "/Users/kieran/opt/miniconda3/lib/python3.9/site-packages/mbuild/compound.py:766: UserWarning: After adding new Compound, Compound.box.lengths < Compound.boundingbox.lengths. There may be particles outside of the defined simulation box\n",
      "  warn(\n",
      "/Users/kieran/opt/miniconda3/lib/python3.9/site-packages/mbuild/conversion.py:464: UserWarning: Using parmed reader. Bonds may be inferred from inter-particle distances and standard residue templates. Please check that the bonds in mb.Compound are accurate\n",
      "  warn(\n"
     ]
    },
    {
     "ename": "AttributeError",
     "evalue": "'NoneType' object has no attribute 'add_bond'",
     "output_type": "error",
     "traceback": [
      "\u001b[0;31m---------------------------------------------------------------------------\u001b[0m",
      "\u001b[0;31mAttributeError\u001b[0m                            Traceback (most recent call last)",
      "Input \u001b[0;32mIn [3]\u001b[0m, in \u001b[0;36m<module>\u001b[0;34m\u001b[0m\n\u001b[1;32m      1\u001b[0m pattern \u001b[39m=\u001b[39m mb\u001b[39m.\u001b[39mRandom2DPattern(\u001b[39m10\u001b[39m)\n\u001b[0;32m----> 2\u001b[0m pmpc_layer \u001b[39m=\u001b[39m PMPCLayer(pattern\u001b[39m=\u001b[39;49mpattern, chain_length\u001b[39m=\u001b[39;49m\u001b[39m3\u001b[39;49m, alpha\u001b[39m=\u001b[39;49mpi \u001b[39m/\u001b[39;49m \u001b[39m4\u001b[39;49m, tile_x\u001b[39m=\u001b[39;49m\u001b[39m1\u001b[39;49m, tile_y\u001b[39m=\u001b[39;49m\u001b[39m1\u001b[39;49m)\n\u001b[1;32m      3\u001b[0m \u001b[39mprint\u001b[39m(pmpc_layer)\n\u001b[1;32m      4\u001b[0m pmpc_layer\u001b[39m.\u001b[39mvisualize()\n",
      "\u001b[1;32m/Users/kieran/pmpc/pmpc/pmpc_brush_layer.ipynb Cell 2'\u001b[0m in \u001b[0;36mPMPCLayer.__init__\u001b[0;34m(self, pattern, tile_x, tile_y, chain_length, alpha)\u001b[0m\n\u001b[1;32m     <a href='vscode-notebook-cell:/Users/kieran/pmpc/pmpc/pmpc_brush_layer.ipynb#ch0000001?line=11'>12</a>\u001b[0m \u001b[39mdef\u001b[39;00m \u001b[39m__init__\u001b[39m(\u001b[39mself\u001b[39m, pattern, tile_x\u001b[39m=\u001b[39m\u001b[39m1\u001b[39m, tile_y\u001b[39m=\u001b[39m\u001b[39m1\u001b[39m, chain_length\u001b[39m=\u001b[39m\u001b[39m4\u001b[39m, alpha\u001b[39m=\u001b[39mpi \u001b[39m/\u001b[39m \u001b[39m4\u001b[39m):\n\u001b[1;32m     <a href='vscode-notebook-cell:/Users/kieran/pmpc/pmpc/pmpc_brush_layer.ipynb#ch0000001?line=12'>13</a>\u001b[0m     surface \u001b[39m=\u001b[39m Betacristobalite()\n\u001b[0;32m---> <a href='vscode-notebook-cell:/Users/kieran/pmpc/pmpc/pmpc_brush_layer.ipynb#ch0000001?line=13'>14</a>\u001b[0m     brush \u001b[39m=\u001b[39m Brush(chain_length\u001b[39m=\u001b[39;49mchain_length, alpha\u001b[39m=\u001b[39;49malpha)\n\u001b[1;32m     <a href='vscode-notebook-cell:/Users/kieran/pmpc/pmpc/pmpc_brush_layer.ipynb#ch0000001?line=14'>15</a>\u001b[0m     hydrogen \u001b[39m=\u001b[39m H()\n\u001b[1;32m     <a href='vscode-notebook-cell:/Users/kieran/pmpc/pmpc/pmpc_brush_layer.ipynb#ch0000001?line=15'>16</a>\u001b[0m     \u001b[39msuper\u001b[39m(PMPCLayer, \u001b[39mself\u001b[39m)\u001b[39m.\u001b[39m\u001b[39m__init__\u001b[39m(surface, brush, backfill\u001b[39m=\u001b[39mhydrogen,\n\u001b[1;32m     <a href='vscode-notebook-cell:/Users/kieran/pmpc/pmpc/pmpc_brush_layer.ipynb#ch0000001?line=16'>17</a>\u001b[0m                                     pattern\u001b[39m=\u001b[39mpattern, tile_x\u001b[39m=\u001b[39mtile_x,\n\u001b[1;32m     <a href='vscode-notebook-cell:/Users/kieran/pmpc/pmpc/pmpc_brush_layer.ipynb#ch0000001?line=17'>18</a>\u001b[0m                                     tile_y\u001b[39m=\u001b[39mtile_y)\n",
      "File \u001b[0;32m~/pmpc/pmpc/brush.py:22\u001b[0m, in \u001b[0;36mBrush.__init__\u001b[0;34m(self, chain_length, alpha)\u001b[0m\n\u001b[1;32m     <a href='file:///~/pmpc/pmpc/brush.py?line=19'>20</a>\u001b[0m chain\u001b[39m.\u001b[39madd_monomer(MPC(alpha\u001b[39m=\u001b[39malpha),indices\u001b[39m=\u001b[39m[\u001b[39m1\u001b[39m, \u001b[39m37\u001b[39m], separation \u001b[39m=\u001b[39m \u001b[39m.15\u001b[39m, replace\u001b[39m=\u001b[39m\u001b[39mTrue\u001b[39;00m)\n\u001b[1;32m     <a href='file:///~/pmpc/pmpc/brush.py?line=20'>21</a>\u001b[0m \u001b[39m# chain.add_end_groups(CH3(), index=30, separation=.15)\u001b[39;00m\n\u001b[0;32m---> <a href='file:///~/pmpc/pmpc/brush.py?line=21'>22</a>\u001b[0m chain\u001b[39m.\u001b[39;49mbuild(n \u001b[39m=\u001b[39;49m chain_length)\n\u001b[1;32m     <a href='file:///~/pmpc/pmpc/brush.py?line=22'>23</a>\u001b[0m \u001b[39mself\u001b[39m\u001b[39m.\u001b[39madd(chain, label\u001b[39m=\u001b[39m\u001b[39m'\u001b[39m\u001b[39mpmpc\u001b[39m\u001b[39m'\u001b[39m)\n\u001b[1;32m     <a href='file:///~/pmpc/pmpc/brush.py?line=23'>24</a>\u001b[0m \u001b[39mself\u001b[39m\u001b[39m.\u001b[39madd(CH3(), label\u001b[39m=\u001b[39m\u001b[39m'\u001b[39m\u001b[39mmethyl\u001b[39m\u001b[39m'\u001b[39m)\n",
      "File \u001b[0;32m~/opt/miniconda3/lib/python3.9/site-packages/mbuild/lib/recipes/polymer.py:161\u001b[0m, in \u001b[0;36mPolymer.build\u001b[0;34m(self, n, sequence, add_hydrogens)\u001b[0m\n\u001b[1;32m    <a href='file:///~/opt/miniconda3/lib/python3.9/site-packages/mbuild/lib/recipes/polymer.py?line=156'>157</a>\u001b[0m     first_part \u001b[39m=\u001b[39m this_part\n\u001b[1;32m    <a href='file:///~/opt/miniconda3/lib/python3.9/site-packages/mbuild/lib/recipes/polymer.py?line=157'>158</a>\u001b[0m \u001b[39melse\u001b[39;00m:\n\u001b[1;32m    <a href='file:///~/opt/miniconda3/lib/python3.9/site-packages/mbuild/lib/recipes/polymer.py?line=158'>159</a>\u001b[0m     \u001b[39m# Transform this part, such that its bottom port is rotated\u001b[39;00m\n\u001b[1;32m    <a href='file:///~/opt/miniconda3/lib/python3.9/site-packages/mbuild/lib/recipes/polymer.py?line=159'>160</a>\u001b[0m     \u001b[39m# and translated to the last parts top port.\u001b[39;00m\n\u001b[0;32m--> <a href='file:///~/opt/miniconda3/lib/python3.9/site-packages/mbuild/lib/recipes/polymer.py?line=160'>161</a>\u001b[0m     force_overlap(\n\u001b[1;32m    <a href='file:///~/opt/miniconda3/lib/python3.9/site-packages/mbuild/lib/recipes/polymer.py?line=161'>162</a>\u001b[0m         this_part,\n\u001b[1;32m    <a href='file:///~/opt/miniconda3/lib/python3.9/site-packages/mbuild/lib/recipes/polymer.py?line=162'>163</a>\u001b[0m         this_part\u001b[39m.\u001b[39;49mlabels[\u001b[39mself\u001b[39;49m\u001b[39m.\u001b[39;49m_port_labels[\u001b[39m0\u001b[39;49m]],\n\u001b[1;32m    <a href='file:///~/opt/miniconda3/lib/python3.9/site-packages/mbuild/lib/recipes/polymer.py?line=163'>164</a>\u001b[0m         last_part\u001b[39m.\u001b[39;49mlabels[\u001b[39mself\u001b[39;49m\u001b[39m.\u001b[39;49m_port_labels[\u001b[39m1\u001b[39;49m]],\n\u001b[1;32m    <a href='file:///~/opt/miniconda3/lib/python3.9/site-packages/mbuild/lib/recipes/polymer.py?line=164'>165</a>\u001b[0m     )\n\u001b[1;32m    <a href='file:///~/opt/miniconda3/lib/python3.9/site-packages/mbuild/lib/recipes/polymer.py?line=165'>166</a>\u001b[0m last_part \u001b[39m=\u001b[39m this_part\n\u001b[1;32m    <a href='file:///~/opt/miniconda3/lib/python3.9/site-packages/mbuild/lib/recipes/polymer.py?line=166'>167</a>\u001b[0m \u001b[39mif\u001b[39;00m n_added \u001b[39m==\u001b[39m n \u001b[39m*\u001b[39m \u001b[39mlen\u001b[39m(sequence) \u001b[39m-\u001b[39m \u001b[39m1\u001b[39m:\n",
      "File \u001b[0;32m~/opt/miniconda3/lib/python3.9/site-packages/mbuild/coordinate_transform.py:79\u001b[0m, in \u001b[0;36mforce_overlap\u001b[0;34m(move_this, from_positions, to_positions, add_bond)\u001b[0m\n\u001b[1;32m     <a href='file:///~/opt/miniconda3/lib/python3.9/site-packages/mbuild/coordinate_transform.py?line=74'>75</a>\u001b[0m \u001b[39melse\u001b[39;00m:\n\u001b[1;32m     <a href='file:///~/opt/miniconda3/lib/python3.9/site-packages/mbuild/coordinate_transform.py?line=75'>76</a>\u001b[0m     from_positions\u001b[39m.\u001b[39manchor\u001b[39m.\u001b[39mparent\u001b[39m.\u001b[39madd_bond(\n\u001b[1;32m     <a href='file:///~/opt/miniconda3/lib/python3.9/site-packages/mbuild/coordinate_transform.py?line=76'>77</a>\u001b[0m         (from_positions\u001b[39m.\u001b[39manchor, to_positions\u001b[39m.\u001b[39manchor)\n\u001b[1;32m     <a href='file:///~/opt/miniconda3/lib/python3.9/site-packages/mbuild/coordinate_transform.py?line=77'>78</a>\u001b[0m     )\n\u001b[0;32m---> <a href='file:///~/opt/miniconda3/lib/python3.9/site-packages/mbuild/coordinate_transform.py?line=78'>79</a>\u001b[0m     to_positions\u001b[39m.\u001b[39;49manchor\u001b[39m.\u001b[39;49mparent\u001b[39m.\u001b[39;49madd_bond(\n\u001b[1;32m     <a href='file:///~/opt/miniconda3/lib/python3.9/site-packages/mbuild/coordinate_transform.py?line=79'>80</a>\u001b[0m         (from_positions\u001b[39m.\u001b[39manchor, to_positions\u001b[39m.\u001b[39manchor)\n\u001b[1;32m     <a href='file:///~/opt/miniconda3/lib/python3.9/site-packages/mbuild/coordinate_transform.py?line=80'>81</a>\u001b[0m     )\n\u001b[1;32m     <a href='file:///~/opt/miniconda3/lib/python3.9/site-packages/mbuild/coordinate_transform.py?line=81'>82</a>\u001b[0m     from_positions\u001b[39m.\u001b[39manchor\u001b[39m.\u001b[39mparent\u001b[39m.\u001b[39mremove(from_positions)\n\u001b[1;32m     <a href='file:///~/opt/miniconda3/lib/python3.9/site-packages/mbuild/coordinate_transform.py?line=82'>83</a>\u001b[0m     to_positions\u001b[39m.\u001b[39manchor\u001b[39m.\u001b[39mparent\u001b[39m.\u001b[39mremove(to_positions)\n",
      "\u001b[0;31mAttributeError\u001b[0m: 'NoneType' object has no attribute 'add_bond'"
     ]
    }
   ],
   "source": [
    "pattern = mb.Random2DPattern(10)\n",
    "pmpc_layer = PMPCLayer(pattern=pattern, chain_length=3, alpha=pi / 4, tile_x=1, tile_y=1)\n",
    "print(pmpc_layer)\n",
    "pmpc_layer.visualize()"
   ]
  },
  {
   "cell_type": "code",
   "execution_count": null,
   "metadata": {},
   "outputs": [],
   "source": []
  }
 ],
 "metadata": {
  "kernelspec": {
   "display_name": "Python 3",
   "language": "python",
   "name": "python3"
  },
  "language_info": {
   "codemirror_mode": {
    "name": "ipython",
    "version": 3
   },
   "file_extension": ".py",
   "mimetype": "text/x-python",
   "name": "python",
   "nbconvert_exporter": "python",
   "pygments_lexer": "ipython3",
   "version": "3.9.7"
  }
 },
 "nbformat": 4,
 "nbformat_minor": 4
}
