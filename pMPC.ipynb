{
 "cells": [
  {
   "cell_type": "code",
   "execution_count": 13,
   "id": "d5834ba7",
   "metadata": {},
   "outputs": [],
   "source": [
    "import mbuild as mb \n",
    "\n",
    "import numpy as np \n",
    "\n",
    "\n",
    "from pathlib import Path\n",
    "import sys\n",
    "directory = Path('/Users/kieran/surface_coatings')\n",
    "sys.path.append(str(directory))\n",
    "\n",
    "# from surface_coatings import surface_coatings \n",
    "from surface_coatings.surfaces import SilicaInterfaceCarve, SiliconInterface, SilicaInterface\n",
    "from surface_coatings.chains import SilanePolymer, VBCPolymer\n",
    "\n",
    "from surface_coatings import Monolayer\n",
    "from mbuild.lib.atoms import H\n",
    "from surface_coatings.chains import SilanePolymer\n",
    "from surface_coatings.monomers.mpc import MPC\n",
    "from mbuild.lib.moieties import Silane\n",
    "\n",
    "from surface_coatings import SolvatedDualMonolayer, DualMonolayer\n",
    "import foyer \n",
    "from foyer import Forcefield\n",
    "\n",
    "from gmso.external.convert_mbuild import to_mbuild\n",
    "from foyer import general_forcefield\n",
    "\n",
    "from utils.index_groups import generate_index_groups"
   ]
  },
  {
   "cell_type": "code",
   "execution_count": 2,
   "id": "e613f7d0",
   "metadata": {},
   "outputs": [
    {
     "name": "stderr",
     "output_type": "stream",
     "text": [
      "/Users/kieran/mbuild/mbuild/conversion.py:481: UserWarning: Using parmed reader. Bonds may be inferred from inter-particle distances and standard residue templates. Please check that the bonds in mb.Compound are accurate\n",
      "  warn(\n"
     ]
    },
    {
     "data": {
      "application/vnd.jupyter.widget-view+json": {
       "model_id": "02f8b117a51f454c98ddb556f4336df8",
       "version_major": 2,
       "version_minor": 0
      },
      "text/plain": []
     },
     "metadata": {},
     "output_type": "display_data"
    },
    {
     "data": {
      "application/vnd.jupyter.widget-view+json": {
       "model_id": "94907ed18a1245069216a0017992c9f3",
       "version_major": 2,
       "version_minor": 0
      },
      "text/plain": [
       "NGLWidget()"
      ]
     },
     "metadata": {},
     "output_type": "display_data"
    }
   ],
   "source": [
    "monomer = SilanePolymer(n=1)\n",
    "# display(monomer.visualize(backend='nglview',show_ports=True))\n",
    "comps = list(monomer.particles())\n",
    "monomer.remove([comps[0],comps[2],comps[3],comps[36]])\n",
    "first_h = H()\n",
    "second_h = H()\n",
    "monomer.add(first_h)\n",
    "monomer.add(second_h)\n",
    "mb.force_overlap(first_h, first_h['up'], monomer['down'])\n",
    "mb.force_overlap(second_h, second_h['up'], monomer.available_ports()[0])\n",
    "display(monomer.visualize(backend='nglview'))\n",
    "# monomer.save('length_1_mpc_silane_monomer_h_capped.mol2')\n",
    "# silane = mb.load('[SiH4]',smiles=True)\n",
    "# comps = list(silane.particles())\n",
    "# silane.remove([comps[1],comps[2]])"
   ]
  },
  {
   "cell_type": "code",
   "execution_count": 16,
   "id": "ef742ad6",
   "metadata": {},
   "outputs": [
    {
     "data": {
      "application/vnd.jupyter.widget-view+json": {
       "model_id": "4a6030fa8d3747b191432188bcdcb28e",
       "version_major": 2,
       "version_minor": 0
      },
      "text/plain": [
       "NGLWidget()"
      ]
     },
     "metadata": {},
     "output_type": "display_data"
    },
    {
     "data": {
      "application/vnd.jupyter.widget-view+json": {
       "model_id": "1a8bebb5047d4a5bb8ef6a617e1e8ac1",
       "version_major": 2,
       "version_minor": 0
      },
      "text/plain": [
       "NGLWidget()"
      ]
     },
     "metadata": {},
     "output_type": "display_data"
    }
   ],
   "source": [
    "test = mb.load('silane_pmpc.xyz')\n",
    "for part in test.particles():\n",
    "    if \"Si\" in part.name:\n",
    "        part.element = 'Si'\n",
    "    else:\n",
    "        part.element = part.name[0]\n",
    "test2 = mb.load('test.pdb', backend='parmed')\n",
    "display(test.visualize(backend='nglview'))\n",
    "bonds = list(test2.bonds())\n",
    "for b in bonds:\n",
    "    if test2[0] in b:\n",
    "        for part in b:\n",
    "            if part.element.symbol == 'H':\n",
    "                bond_to_remove = b\n",
    "                break\n",
    "test2.remove_bond(bond_to_remove)\n",
    "display(test2.visualize(backend='nglview'))\n",
    "# test2.save('silane_pmpc_moner_fixed.mol2',overwrite=True)"
   ]
  },
  {
   "cell_type": "code",
   "execution_count": 10,
   "id": "a4c8b192",
   "metadata": {},
   "outputs": [
    {
     "name": "stderr",
     "output_type": "stream",
     "text": [
      "/Users/kieran/mbuild-examples/mbuild/mbuild/compound.py:755: UserWarning: The Compound you are adding has a box. The box of the parent compound will be used. Use inherit_box = True if you wish to replace the parent compound box with that of Compound being added.\n",
      "  warn(\n",
      "/Users/kieran/mbuild-examples/mbuild/mbuild/utils/decorators.py:134: Warning: freud_generate_bonds is an experimental feature and is not subject to follow standard deprecation cycles. Use at your own risk! \n",
      "  warn(\n"
     ]
    },
    {
     "name": "stdout",
     "output_type": "stream",
     "text": [
      "<MPC 41 particles, non-periodic, 40 bonds, id: 140381666472912>\n",
      "[<Port, anchor: 'C', labels: , id: 140381667781312>, <Port, anchor: 'C', labels: , id: 140381667811632>]\n"
     ]
    },
    {
     "name": "stderr",
     "output_type": "stream",
     "text": [
      "/Users/kieran/mbuild-examples/mbuild/mbuild/conversion.py:481: UserWarning: Using parmed reader. Bonds may be inferred from inter-particle distances and standard residue templates. Please check that the bonds in mb.Compound are accurate\n",
      "  warn(\n"
     ]
    },
    {
     "data": {
      "application/3dmoljs_load.v0": "<div id=\"3dmolviewer_1653320000537014\"  style=\"position: relative; width: 640px; height: 480px\">\n        <p id=\"3dmolwarning_1653320000537014\" style=\"background-color:#ffcccc;color:black\">You appear to be running in JupyterLab (or JavaScript failed to load for some other reason).  You need to install the 3dmol extension: <br>\n        <tt>jupyter labextension install jupyterlab_3dmol</tt></p>\n        </div>\n<script>\n\nvar loadScriptAsync = function(uri){\n  return new Promise((resolve, reject) => {\n    var tag = document.createElement('script');\n    tag.src = uri;\n    tag.async = true;\n    tag.onload = () => {\n      resolve();\n    };\n  var firstScriptTag = document.getElementsByTagName('script')[0];\n  firstScriptTag.parentNode.insertBefore(tag, firstScriptTag);\n});\n};\n\nif(typeof $3Dmolpromise === 'undefined') {\n$3Dmolpromise = null;\n  $3Dmolpromise = loadScriptAsync('https://3dmol.org/build/3Dmol.js');\n}\n\nvar viewer_1653320000537014 = null;\nvar warn = document.getElementById(\"3dmolwarning_1653320000537014\");\nif(warn) {\n    warn.parentNode.removeChild(warn);\n}\n$3Dmolpromise.then(function() {\nviewer_1653320000537014 = $3Dmol.createViewer($(\"#3dmolviewer_1653320000537014\"),{backgroundColor:\"white\"});\nviewer_1653320000537014.zoomTo();\n\tviewer_1653320000537014.addModel(\"@<TRIPOS>MOLECULE\\nRES\\n87 86 1 0 1\\nSMALL\\nNO_CHARGES\\n@<TRIPOS>CRYSIN\\n   16.6792    17.0248    16.1472    90.0000    90.0000    90.0000  1  1\\n@<TRIPOS>ATOM\\n       1 C           -1.5206     1.2408    -0.2418 C             1 RES     \\n       2 C            0.0000     1.4086    -0.0000 C             1 RES     \\n       3 H           -1.6458     2.3330    -0.1280 H             1 RES     \\n       4 H           -2.3759     1.2949     0.3869 H             1 RES     \\n       5 C            0.8244     1.5018     1.2725 C             1 RES     \\n       6 O            1.4175     2.6845     1.6032 O             1 RES     \\n       7 C            2.5652     2.7128     2.3803 C             1 RES     \\n       8 C            3.1281     4.1268     2.5068 C             1 RES     \\n       9 H            3.3324     2.0949     1.8624 H             1 RES     \\n      10 H            2.3810     2.2839     3.3899 H             1 RES     \\n      11 O            4.4604     4.0443     2.9671 O             1 RES     \\n      12 H            2.4519     4.7632     3.1201 H             1 RES     \\n      13 H            3.1731     4.5863     1.4969 H             1 RES     \\n      14 P            4.6520     4.7371     4.5628 P             1 RES     \\n      15 O            3.9300     6.3134     4.6645 O             1 RES     \\n      16 O            3.9510     3.7802     5.5657 O             1 RES     \\n      17 O            6.3742     4.7812     4.9112 O             1 RES     \\n      18 C            6.6273     4.9727     6.2861 C             1 RES     \\n      19 C            6.7831     6.4773     6.6008 C             1 RES     \\n      20 H            7.5783     4.4467     6.4943 H             1 RES     \\n      21 H            5.8680     4.4832     6.9300 H             1 RES     \\n      22 N            7.2075     6.8097     7.9971 N             1 RES     \\n      23 H            5.8075     6.9644     6.3805 H             1 RES     \\n      24 H            7.5252     6.8948     5.8818 H             1 RES     \\n      25 C            7.2413     8.2870     8.1251 C             1 RES     \\n      26 H            6.2378     8.7295     7.9338 H             1 RES     \\n      27 H            7.9565     8.7373     7.3990 H             1 RES     \\n      28 H            7.5566     8.6001     9.1461 H             1 RES     \\n      29 C            8.5669     6.2926     8.2885 C             1 RES     \\n      30 H            8.5949     5.1824     8.2989 H             1 RES     \\n      31 H            8.9147     6.6237     9.2934 H             1 RES     \\n      32 H            9.3033     6.6560     7.5371 H             1 RES     \\n      33 C            6.2533     6.2781     8.9993 C             1 RES     \\n      34 H            5.2182     6.6283     8.7902 H             1 RES     \\n      35 H            6.5276     6.6082    10.0265 H             1 RES     \\n      36 H            6.2538     5.1677     9.0174 H             1 RES     \\n      37 H           -1.8005     0.9388    -1.1208 H             1 RES     \\n      38 C            0.0000     0.0000     0.0000 C             1 RES     \\n      39 H           -0.5008    -0.0452    -0.9311 H             1 RES     \\n      40 H           -0.7345    -0.4704     0.3080 H             1 RES     \\n      41 O            1.2259     0.5592     2.0501 O             1 RES     \\n      42 C           -1.5206    -1.5763    -0.2418 C             1 RES     \\n      43 C            0.0000    -1.4086     0.0000 C             1 RES     \\n      44 H           -1.6458    -0.4841    -0.1280 H             1 RES     \\n      45 H           -2.3759    -1.5223     0.3869 H             1 RES     \\n      46 C            0.8244    -1.3153     1.2725 C             1 RES     \\n      47 O            1.4175    -0.1326     1.6032 O             1 RES     \\n      48 C            2.5652    -0.1044     2.3803 C             1 RES     \\n      49 C            3.1281     1.3096     2.5068 C             1 RES     \\n      50 H            3.3324    -0.7223     1.8624 H             1 RES     \\n      51 H            2.3810    -0.5333     3.3899 H             1 RES     \\n      52 O            4.4604     1.2272     2.9671 O             1 RES     \\n      53 H            2.4519     1.9460     3.1201 H             1 RES     \\n      54 H            3.1731     1.7692     1.4969 H             1 RES     \\n      55 P            4.6520     1.9199     4.5628 P             1 RES     \\n      56 O            3.9300     3.4962     4.6645 O             1 RES     \\n      57 O            3.9510     0.9630     5.5657 O             1 RES     \\n      58 O            6.3742     1.9641     4.9112 O             1 RES     \\n      59 C            6.6273     2.1556     6.2861 C             1 RES     \\n      60 C            6.7831     3.6602     6.6008 C             1 RES     \\n      61 H            7.5783     1.6296     6.4943 H             1 RES     \\n      62 H            5.8680     1.6661     6.9300 H             1 RES     \\n      63 N            7.2075     3.9926     7.9971 N             1 RES     \\n      64 H            5.8075     4.1472     6.3805 H             1 RES     \\n      65 H            7.5252     4.0776     5.8818 H             1 RES     \\n      66 C            7.2413     5.4698     8.1251 C             1 RES     \\n      67 H            6.2378     5.9124     7.9338 H             1 RES     \\n      68 H            7.9565     5.9202     7.3990 H             1 RES     \\n      69 H            7.5566     5.7829     9.1461 H             1 RES     \\n      70 C            8.5669     3.4754     8.2885 C             1 RES     \\n      71 H            8.5949     2.3653     8.2989 H             1 RES     \\n      72 H            8.9147     3.8065     9.2934 H             1 RES     \\n      73 H            9.3033     3.8389     7.5371 H             1 RES     \\n      74 C            6.2533     3.4609     8.9993 C             1 RES     \\n      75 H            5.2182     3.8111     8.7902 H             1 RES     \\n      76 H            6.5276     3.7911    10.0265 H             1 RES     \\n      77 H            6.2538     2.3505     9.0174 H             1 RES     \\n      78 H           -1.8005    -1.8784    -1.1208 H             1 RES     \\n      79 C            0.0000    -2.8172     0.0000 C             1 RES     \\n      80 H           -0.5008    -2.8624    -0.9311 H             1 RES     \\n      81 H           -0.7345    -3.2875     0.3080 H             1 RES     \\n      82 O            1.2259    -2.2580     2.0501 O             1 RES     \\n      83 Si           0.0000     2.8129    -0.0000 Si            1 RES     \\n      84 O           -1.3073     2.8129     0.0000 O             1 RES     \\n      85 H           -1.6345     2.7812    -0.6710 H             1 RES     \\n      86 O            1.4502     2.6619    -0.0000 O             1 RES     \\n      87 H            1.8179     2.7446     0.8020 H             1 RES     \\n@<TRIPOS>BOND\\n       1       37        1 1\\n       2        4        1 1\\n       3        3        1 1\\n       4        2        1 1\\n       5       38        2 1\\n       6        5        2 1\\n       7       79        2 1\\n       8       39       38 1\\n       9       40       38 1\\n      10       83       38 1\\n      11       41        5 1\\n      12        6        5 1\\n      13       43       79 1\\n      14       80       79 1\\n      15       81       79 1\\n      16       84       83 1\\n      17       86       83 1\\n      18        7        6 1\\n      19        9        7 1\\n      20       10        7 1\\n      21        8        7 1\\n      22       13        8 1\\n      23       12        8 1\\n      24       11        8 1\\n      25       14       11 1\\n      26       16       14 1\\n      27       15       14 1\\n      28       17       14 1\\n      29       18       17 1\\n      30       21       18 1\\n      31       20       18 1\\n      32       19       18 1\\n      33       23       19 1\\n      34       24       19 1\\n      35       22       19 1\\n      36       33       22 1\\n      37       25       22 1\\n      38       29       22 1\\n      39       34       33 1\\n      40       36       33 1\\n      41       35       33 1\\n      42       26       25 1\\n      43       27       25 1\\n      44       28       25 1\\n      45       30       29 1\\n      46       32       29 1\\n      47       31       29 1\\n      48       78       42 1\\n      49       45       42 1\\n      50       44       42 1\\n      51       43       42 1\\n      52       46       43 1\\n      53       82       46 1\\n      54       47       46 1\\n      55       48       47 1\\n      56       50       48 1\\n      57       51       48 1\\n      58       49       48 1\\n      59       54       49 1\\n      60       53       49 1\\n      61       52       49 1\\n      62       55       52 1\\n      63       57       55 1\\n      64       56       55 1\\n      65       58       55 1\\n      66       59       58 1\\n      67       62       59 1\\n      68       61       59 1\\n      69       60       59 1\\n      70       64       60 1\\n      71       65       60 1\\n      72       63       60 1\\n      73       74       63 1\\n      74       66       63 1\\n      75       70       63 1\\n      76       75       74 1\\n      77       77       74 1\\n      78       76       74 1\\n      79       67       66 1\\n      80       68       66 1\\n      81       69       66 1\\n      82       71       70 1\\n      83       73       70 1\\n      84       72       70 1\\n      85       85       84 1\\n      86       87       86 1\\n@<TRIPOS>SUBSTRUCTURE\\n       1 RES             1 RESIDUE    0 **** ROOT      0\\n\",\"mol2\");\n\tviewer_1653320000537014.setStyle({\"stick\": {\"radius\": 0.2, \"color\": \"grey\"}, \"sphere\": {\"scale\": 0.3, \"colorscheme\": {}}});\n\tviewer_1653320000537014.zoomTo();\nviewer_1653320000537014.render();\n});\n</script>",
      "text/html": [
       "<div id=\"3dmolviewer_1653320000537014\"  style=\"position: relative; width: 640px; height: 480px\">\n",
       "        <p id=\"3dmolwarning_1653320000537014\" style=\"background-color:#ffcccc;color:black\">You appear to be running in JupyterLab (or JavaScript failed to load for some other reason).  You need to install the 3dmol extension: <br>\n",
       "        <tt>jupyter labextension install jupyterlab_3dmol</tt></p>\n",
       "        </div>\n",
       "<script>\n",
       "\n",
       "var loadScriptAsync = function(uri){\n",
       "  return new Promise((resolve, reject) => {\n",
       "    var tag = document.createElement('script');\n",
       "    tag.src = uri;\n",
       "    tag.async = true;\n",
       "    tag.onload = () => {\n",
       "      resolve();\n",
       "    };\n",
       "  var firstScriptTag = document.getElementsByTagName('script')[0];\n",
       "  firstScriptTag.parentNode.insertBefore(tag, firstScriptTag);\n",
       "});\n",
       "};\n",
       "\n",
       "if(typeof $3Dmolpromise === 'undefined') {\n",
       "$3Dmolpromise = null;\n",
       "  $3Dmolpromise = loadScriptAsync('https://3dmol.org/build/3Dmol.js');\n",
       "}\n",
       "\n",
       "var viewer_1653320000537014 = null;\n",
       "var warn = document.getElementById(\"3dmolwarning_1653320000537014\");\n",
       "if(warn) {\n",
       "    warn.parentNode.removeChild(warn);\n",
       "}\n",
       "$3Dmolpromise.then(function() {\n",
       "viewer_1653320000537014 = $3Dmol.createViewer($(\"#3dmolviewer_1653320000537014\"),{backgroundColor:\"white\"});\n",
       "viewer_1653320000537014.zoomTo();\n",
       "\tviewer_1653320000537014.addModel(\"@<TRIPOS>MOLECULE\\nRES\\n87 86 1 0 1\\nSMALL\\nNO_CHARGES\\n@<TRIPOS>CRYSIN\\n   16.6792    17.0248    16.1472    90.0000    90.0000    90.0000  1  1\\n@<TRIPOS>ATOM\\n       1 C           -1.5206     1.2408    -0.2418 C             1 RES     \\n       2 C            0.0000     1.4086    -0.0000 C             1 RES     \\n       3 H           -1.6458     2.3330    -0.1280 H             1 RES     \\n       4 H           -2.3759     1.2949     0.3869 H             1 RES     \\n       5 C            0.8244     1.5018     1.2725 C             1 RES     \\n       6 O            1.4175     2.6845     1.6032 O             1 RES     \\n       7 C            2.5652     2.7128     2.3803 C             1 RES     \\n       8 C            3.1281     4.1268     2.5068 C             1 RES     \\n       9 H            3.3324     2.0949     1.8624 H             1 RES     \\n      10 H            2.3810     2.2839     3.3899 H             1 RES     \\n      11 O            4.4604     4.0443     2.9671 O             1 RES     \\n      12 H            2.4519     4.7632     3.1201 H             1 RES     \\n      13 H            3.1731     4.5863     1.4969 H             1 RES     \\n      14 P            4.6520     4.7371     4.5628 P             1 RES     \\n      15 O            3.9300     6.3134     4.6645 O             1 RES     \\n      16 O            3.9510     3.7802     5.5657 O             1 RES     \\n      17 O            6.3742     4.7812     4.9112 O             1 RES     \\n      18 C            6.6273     4.9727     6.2861 C             1 RES     \\n      19 C            6.7831     6.4773     6.6008 C             1 RES     \\n      20 H            7.5783     4.4467     6.4943 H             1 RES     \\n      21 H            5.8680     4.4832     6.9300 H             1 RES     \\n      22 N            7.2075     6.8097     7.9971 N             1 RES     \\n      23 H            5.8075     6.9644     6.3805 H             1 RES     \\n      24 H            7.5252     6.8948     5.8818 H             1 RES     \\n      25 C            7.2413     8.2870     8.1251 C             1 RES     \\n      26 H            6.2378     8.7295     7.9338 H             1 RES     \\n      27 H            7.9565     8.7373     7.3990 H             1 RES     \\n      28 H            7.5566     8.6001     9.1461 H             1 RES     \\n      29 C            8.5669     6.2926     8.2885 C             1 RES     \\n      30 H            8.5949     5.1824     8.2989 H             1 RES     \\n      31 H            8.9147     6.6237     9.2934 H             1 RES     \\n      32 H            9.3033     6.6560     7.5371 H             1 RES     \\n      33 C            6.2533     6.2781     8.9993 C             1 RES     \\n      34 H            5.2182     6.6283     8.7902 H             1 RES     \\n      35 H            6.5276     6.6082    10.0265 H             1 RES     \\n      36 H            6.2538     5.1677     9.0174 H             1 RES     \\n      37 H           -1.8005     0.9388    -1.1208 H             1 RES     \\n      38 C            0.0000     0.0000     0.0000 C             1 RES     \\n      39 H           -0.5008    -0.0452    -0.9311 H             1 RES     \\n      40 H           -0.7345    -0.4704     0.3080 H             1 RES     \\n      41 O            1.2259     0.5592     2.0501 O             1 RES     \\n      42 C           -1.5206    -1.5763    -0.2418 C             1 RES     \\n      43 C            0.0000    -1.4086     0.0000 C             1 RES     \\n      44 H           -1.6458    -0.4841    -0.1280 H             1 RES     \\n      45 H           -2.3759    -1.5223     0.3869 H             1 RES     \\n      46 C            0.8244    -1.3153     1.2725 C             1 RES     \\n      47 O            1.4175    -0.1326     1.6032 O             1 RES     \\n      48 C            2.5652    -0.1044     2.3803 C             1 RES     \\n      49 C            3.1281     1.3096     2.5068 C             1 RES     \\n      50 H            3.3324    -0.7223     1.8624 H             1 RES     \\n      51 H            2.3810    -0.5333     3.3899 H             1 RES     \\n      52 O            4.4604     1.2272     2.9671 O             1 RES     \\n      53 H            2.4519     1.9460     3.1201 H             1 RES     \\n      54 H            3.1731     1.7692     1.4969 H             1 RES     \\n      55 P            4.6520     1.9199     4.5628 P             1 RES     \\n      56 O            3.9300     3.4962     4.6645 O             1 RES     \\n      57 O            3.9510     0.9630     5.5657 O             1 RES     \\n      58 O            6.3742     1.9641     4.9112 O             1 RES     \\n      59 C            6.6273     2.1556     6.2861 C             1 RES     \\n      60 C            6.7831     3.6602     6.6008 C             1 RES     \\n      61 H            7.5783     1.6296     6.4943 H             1 RES     \\n      62 H            5.8680     1.6661     6.9300 H             1 RES     \\n      63 N            7.2075     3.9926     7.9971 N             1 RES     \\n      64 H            5.8075     4.1472     6.3805 H             1 RES     \\n      65 H            7.5252     4.0776     5.8818 H             1 RES     \\n      66 C            7.2413     5.4698     8.1251 C             1 RES     \\n      67 H            6.2378     5.9124     7.9338 H             1 RES     \\n      68 H            7.9565     5.9202     7.3990 H             1 RES     \\n      69 H            7.5566     5.7829     9.1461 H             1 RES     \\n      70 C            8.5669     3.4754     8.2885 C             1 RES     \\n      71 H            8.5949     2.3653     8.2989 H             1 RES     \\n      72 H            8.9147     3.8065     9.2934 H             1 RES     \\n      73 H            9.3033     3.8389     7.5371 H             1 RES     \\n      74 C            6.2533     3.4609     8.9993 C             1 RES     \\n      75 H            5.2182     3.8111     8.7902 H             1 RES     \\n      76 H            6.5276     3.7911    10.0265 H             1 RES     \\n      77 H            6.2538     2.3505     9.0174 H             1 RES     \\n      78 H           -1.8005    -1.8784    -1.1208 H             1 RES     \\n      79 C            0.0000    -2.8172     0.0000 C             1 RES     \\n      80 H           -0.5008    -2.8624    -0.9311 H             1 RES     \\n      81 H           -0.7345    -3.2875     0.3080 H             1 RES     \\n      82 O            1.2259    -2.2580     2.0501 O             1 RES     \\n      83 Si           0.0000     2.8129    -0.0000 Si            1 RES     \\n      84 O           -1.3073     2.8129     0.0000 O             1 RES     \\n      85 H           -1.6345     2.7812    -0.6710 H             1 RES     \\n      86 O            1.4502     2.6619    -0.0000 O             1 RES     \\n      87 H            1.8179     2.7446     0.8020 H             1 RES     \\n@<TRIPOS>BOND\\n       1       37        1 1\\n       2        4        1 1\\n       3        3        1 1\\n       4        2        1 1\\n       5       38        2 1\\n       6        5        2 1\\n       7       79        2 1\\n       8       39       38 1\\n       9       40       38 1\\n      10       83       38 1\\n      11       41        5 1\\n      12        6        5 1\\n      13       43       79 1\\n      14       80       79 1\\n      15       81       79 1\\n      16       84       83 1\\n      17       86       83 1\\n      18        7        6 1\\n      19        9        7 1\\n      20       10        7 1\\n      21        8        7 1\\n      22       13        8 1\\n      23       12        8 1\\n      24       11        8 1\\n      25       14       11 1\\n      26       16       14 1\\n      27       15       14 1\\n      28       17       14 1\\n      29       18       17 1\\n      30       21       18 1\\n      31       20       18 1\\n      32       19       18 1\\n      33       23       19 1\\n      34       24       19 1\\n      35       22       19 1\\n      36       33       22 1\\n      37       25       22 1\\n      38       29       22 1\\n      39       34       33 1\\n      40       36       33 1\\n      41       35       33 1\\n      42       26       25 1\\n      43       27       25 1\\n      44       28       25 1\\n      45       30       29 1\\n      46       32       29 1\\n      47       31       29 1\\n      48       78       42 1\\n      49       45       42 1\\n      50       44       42 1\\n      51       43       42 1\\n      52       46       43 1\\n      53       82       46 1\\n      54       47       46 1\\n      55       48       47 1\\n      56       50       48 1\\n      57       51       48 1\\n      58       49       48 1\\n      59       54       49 1\\n      60       53       49 1\\n      61       52       49 1\\n      62       55       52 1\\n      63       57       55 1\\n      64       56       55 1\\n      65       58       55 1\\n      66       59       58 1\\n      67       62       59 1\\n      68       61       59 1\\n      69       60       59 1\\n      70       64       60 1\\n      71       65       60 1\\n      72       63       60 1\\n      73       74       63 1\\n      74       66       63 1\\n      75       70       63 1\\n      76       75       74 1\\n      77       77       74 1\\n      78       76       74 1\\n      79       67       66 1\\n      80       68       66 1\\n      81       69       66 1\\n      82       71       70 1\\n      83       73       70 1\\n      84       72       70 1\\n      85       85       84 1\\n      86       87       86 1\\n@<TRIPOS>SUBSTRUCTURE\\n       1 RES             1 RESIDUE    0 **** ROOT      0\\n\",\"mol2\");\n",
       "\tviewer_1653320000537014.setStyle({\"stick\": {\"radius\": 0.2, \"color\": \"grey\"}, \"sphere\": {\"scale\": 0.3, \"colorscheme\": {}}});\n",
       "\tviewer_1653320000537014.zoomTo();\n",
       "viewer_1653320000537014.render();\n",
       "});\n",
       "</script>"
      ]
     },
     "metadata": {},
     "output_type": "display_data"
    },
    {
     "data": {
      "text/plain": [
       "<py3Dmol.view at 0x7fad2774a1c0>"
      ]
     },
     "execution_count": 10,
     "metadata": {},
     "output_type": "execute_result"
    }
   ],
   "source": [
    "surface = SilicaInterfaceCarve()\n",
    "chain = SilanePolymer(n=2)\n",
    "chain.visualize()"
   ]
  },
  {
   "cell_type": "code",
   "execution_count": 6,
   "id": "9d88fd32",
   "metadata": {},
   "outputs": [
    {
     "name": "stderr",
     "output_type": "stream",
     "text": [
      "/Users/kieran/surface_coatings/surface_coatings/monolayer.py:84: UserWarning: \n",
      " No fractions provided. Assuming a single chain type.\n",
      "  warn(\"\\n No fractions provided. Assuming a single chain type.\")\n",
      "/Users/kieran/mbuild-examples/mbuild/mbuild/compound.py:768: UserWarning: After adding new Compound, Compound.box.lengths < Compound.boundingbox.lengths. There may be particles outside of the defined simulation box\n",
      "  warn(\n",
      "/Users/kieran/mbuild-examples/mbuild/mbuild/compound.py:1172: UserWarning: Compound.box.lengths < Compound.boundingbox.lengths. There may be particles outside of the defined simulation box.\n",
      "  warn(\n"
     ]
    }
   ],
   "source": [
    "monolayer = Monolayer(surface=mb.clone(surface), \n",
    "                      chains=mb.clone(chain), \n",
    "                      n_chains=20, \n",
    "                      tile_x=1, \n",
    "                      tile_y=1)\n",
    "dual_monolayer = DualMonolayer(top=mb.clone(monolayer),\n",
    "                               bottom=mb.clone(monolayer),\n",
    "                               separation=3,\n",
    "                               shift=True)\n",
    "solvated_dual_monolayer = SolvatedDualMonolayer(dual_monolayer=mb.clone(dual_monolayer))"
   ]
  },
  {
   "cell_type": "code",
   "execution_count": 12,
   "id": "015d123b",
   "metadata": {},
   "outputs": [
    {
     "name": "stderr",
     "output_type": "stream",
     "text": [
      "/Users/kieran/opt/miniconda3/lib/python3.9/site-packages/foyer/validator.py:165: ValidationWarning: You have empty smart definition(s)\n",
      "  warn(\"You have empty smart definition(s)\", ValidationWarning)\n"
     ]
    },
    {
     "name": "stdout",
     "output_type": "stream",
     "text": [
      "Missing angle with ids (42, 45, 46) and types ['opls_141', 'opls_465', 'opls_467'].\n",
      "Missing dihedral with ids (1, 78, 42, 45) and types ['opls_139', 'opls_136', 'opls_141', 'opls_465'].\n",
      "Missing dihedral with ids (4, 1, 78, 42) and types ['opls_465', 'opls_139', 'opls_136', 'opls_141'].\n"
     ]
    },
    {
     "name": "stderr",
     "output_type": "stream",
     "text": [
      "/Users/kieran/opt/miniconda3/lib/python3.9/site-packages/foyer/forcefield.py:349: UserWarning: Parameters have not been assigned to all angles. Total system angles: 158, Parameterized angles: 157\n",
      "  warnings.warn(msg)\n",
      "/Users/kieran/opt/miniconda3/lib/python3.9/site-packages/foyer/forcefield.py:349: UserWarning: Parameters have not been assigned to all proper dihedrals. Total system dihedrals: 201, Parameterized dihedrals: 199. Note that if your system contains torsions of Ryckaert-Bellemans functional form, all of these torsions are processed as propers.\n",
      "  warnings.warn(msg)\n",
      "/Users/kieran/opt/miniconda3/lib/python3.9/site-packages/foyer/forcefield.py:349: UserWarning: Parameters have not been assigned to all impropers. Total system impropers: 96, Parameterized impropers: 3. Note that if your system contains torsions of Ryckaert-Bellemans functional form, all of these torsions are processed as propers\n",
      "  warnings.warn(msg)\n",
      "/Users/kieran/opt/miniconda3/lib/python3.9/site-packages/foyer/forcefield.py:926: UserWarning: Parametrized structure has non-zero charge.Structure's total charge: 0.32999999999999946\n",
      "  warnings.warn(\n"
     ]
    }
   ],
   "source": [
    "oplsaa = Forcefield(forcefield_files=\"./utils/charge_neutral_oplsaa_imodels.xml\")\n",
    "typed_monolayer = oplsaa.apply(chain, verbose=True,\n",
    "                          assert_angle_params=False,\n",
    "                          assert_dihedral_params=False)\n",
    "typed_monolayer.save('solvated_dual_monolayer.top', overwrite=True)"
   ]
  },
  {
   "cell_type": "code",
   "execution_count": 14,
   "id": "b53d4df1",
   "metadata": {},
   "outputs": [
    {
     "ename": "NameError",
     "evalue": "name 'terminal_groups' is not defined",
     "output_type": "error",
     "traceback": [
      "\u001b[0;31m---------------------------------------------------------------------------\u001b[0m",
      "\u001b[0;31mNameError\u001b[0m                                 Traceback (most recent call last)",
      "\u001b[1;32m/Users/kieran/pmpc/pMPC.ipynb Cell 7'\u001b[0m in \u001b[0;36m<module>\u001b[0;34m\u001b[0m\n\u001b[1;32m      <a href='vscode-notebook-cell:/Users/kieran/pmpc/pMPC.ipynb#ch0000018?line=0'>1</a>\u001b[0m index_groups \u001b[39m=\u001b[39m generate_index_groups(system\u001b[39m=\u001b[39mtyped_monolayer,\n\u001b[0;32m----> <a href='vscode-notebook-cell:/Users/kieran/pmpc/pMPC.ipynb#ch0000018?line=1'>2</a>\u001b[0m \t\t\t\t\t terminal_groups\u001b[39m=\u001b[39mterminal_groups,\n\u001b[1;32m      <a href='vscode-notebook-cell:/Users/kieran/pmpc/pMPC.ipynb#ch0000018?line=2'>3</a>\u001b[0m \t\t\t\t\t freeze_thickness\u001b[39m=\u001b[39m\u001b[39m0.5\u001b[39m)\n",
      "\u001b[0;31mNameError\u001b[0m: name 'terminal_groups' is not defined"
     ]
    }
   ],
   "source": [
    "index_groups = generate_index_groups(system=typed_monolayer,\n",
    "\t\t\t\t\t terminal_groups=terminal_groups,\n",
    "\t\t\t\t\t freeze_thickness=0.5)"
   ]
  },
  {
   "cell_type": "code",
   "execution_count": null,
   "id": "a4224f91",
   "metadata": {},
   "outputs": [],
   "source": []
  }
 ],
 "metadata": {
  "kernelspec": {
   "display_name": "Python 3 (ipykernel)",
   "language": "python",
   "name": "python3"
  },
  "language_info": {
   "codemirror_mode": {
    "name": "ipython",
    "version": 3
   },
   "file_extension": ".py",
   "mimetype": "text/x-python",
   "name": "python",
   "nbconvert_exporter": "python",
   "pygments_lexer": "ipython3",
   "version": "3.9.7"
  }
 },
 "nbformat": 4,
 "nbformat_minor": 5
}
